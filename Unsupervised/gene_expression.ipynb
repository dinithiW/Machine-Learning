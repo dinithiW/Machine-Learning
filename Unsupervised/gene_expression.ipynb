{
 "cells": [
  {
   "cell_type": "code",
   "execution_count": 22,
   "metadata": {},
   "outputs": [],
   "source": [
    "import pandas as pd\n",
    "import numpy as np\n",
    "import random as rd\n",
    "\n",
    "from itertools import cycle\n",
    "from sklearn.decomposition import PCA\n",
    "from sklearn.cluster import KMeans\n",
    "from numpy.random import RandomState\n",
    "import pylab as pl\n",
    "import matplotlib.pyplot as plt"
   ]
  },
  {
   "cell_type": "code",
   "execution_count": 5,
   "metadata": {},
   "outputs": [],
   "source": [
    "dataset = pd.read_csv(\"../Datasets/ALL_AML_dataset_no_labels.csv\", header=None)"
   ]
  },
  {
   "cell_type": "code",
   "execution_count": 6,
   "metadata": {},
   "outputs": [
    {
     "data": {
      "text/html": [
       "<div>\n",
       "<style scoped>\n",
       "    .dataframe tbody tr th:only-of-type {\n",
       "        vertical-align: middle;\n",
       "    }\n",
       "\n",
       "    .dataframe tbody tr th {\n",
       "        vertical-align: top;\n",
       "    }\n",
       "\n",
       "    .dataframe thead th {\n",
       "        text-align: right;\n",
       "    }\n",
       "</style>\n",
       "<table border=\"1\" class=\"dataframe\">\n",
       "  <thead>\n",
       "    <tr style=\"text-align: right;\">\n",
       "      <th></th>\n",
       "      <th>0</th>\n",
       "      <th>1</th>\n",
       "      <th>2</th>\n",
       "      <th>3</th>\n",
       "      <th>4</th>\n",
       "      <th>5</th>\n",
       "      <th>6</th>\n",
       "      <th>7</th>\n",
       "      <th>8</th>\n",
       "      <th>9</th>\n",
       "      <th>...</th>\n",
       "      <th>1014</th>\n",
       "      <th>1015</th>\n",
       "      <th>1016</th>\n",
       "      <th>1017</th>\n",
       "      <th>1018</th>\n",
       "      <th>1019</th>\n",
       "      <th>1020</th>\n",
       "      <th>1021</th>\n",
       "      <th>1022</th>\n",
       "      <th>1023</th>\n",
       "    </tr>\n",
       "  </thead>\n",
       "  <tbody>\n",
       "    <tr>\n",
       "      <td>0</td>\n",
       "      <td>-214</td>\n",
       "      <td>-153</td>\n",
       "      <td>-58</td>\n",
       "      <td>88</td>\n",
       "      <td>-295</td>\n",
       "      <td>-558</td>\n",
       "      <td>199</td>\n",
       "      <td>-176</td>\n",
       "      <td>252</td>\n",
       "      <td>206</td>\n",
       "      <td>...</td>\n",
       "      <td>240</td>\n",
       "      <td>204</td>\n",
       "      <td>296</td>\n",
       "      <td>11</td>\n",
       "      <td>-104</td>\n",
       "      <td>260</td>\n",
       "      <td>76</td>\n",
       "      <td>-239</td>\n",
       "      <td>-2820</td>\n",
       "      <td>11216</td>\n",
       "    </tr>\n",
       "    <tr>\n",
       "      <td>1</td>\n",
       "      <td>-139</td>\n",
       "      <td>-73</td>\n",
       "      <td>-1</td>\n",
       "      <td>283</td>\n",
       "      <td>-264</td>\n",
       "      <td>-400</td>\n",
       "      <td>-330</td>\n",
       "      <td>-168</td>\n",
       "      <td>101</td>\n",
       "      <td>74</td>\n",
       "      <td>...</td>\n",
       "      <td>299</td>\n",
       "      <td>842</td>\n",
       "      <td>199</td>\n",
       "      <td>-21</td>\n",
       "      <td>-4</td>\n",
       "      <td>-128</td>\n",
       "      <td>373</td>\n",
       "      <td>-241</td>\n",
       "      <td>-3276</td>\n",
       "      <td>15296</td>\n",
       "    </tr>\n",
       "    <tr>\n",
       "      <td>2</td>\n",
       "      <td>-76</td>\n",
       "      <td>-49</td>\n",
       "      <td>-307</td>\n",
       "      <td>309</td>\n",
       "      <td>-376</td>\n",
       "      <td>-650</td>\n",
       "      <td>33</td>\n",
       "      <td>-367</td>\n",
       "      <td>206</td>\n",
       "      <td>-215</td>\n",
       "      <td>...</td>\n",
       "      <td>293</td>\n",
       "      <td>766</td>\n",
       "      <td>-173</td>\n",
       "      <td>106</td>\n",
       "      <td>53</td>\n",
       "      <td>731</td>\n",
       "      <td>436</td>\n",
       "      <td>-394</td>\n",
       "      <td>-3675</td>\n",
       "      <td>12911</td>\n",
       "    </tr>\n",
       "    <tr>\n",
       "      <td>3</td>\n",
       "      <td>-135</td>\n",
       "      <td>-114</td>\n",
       "      <td>265</td>\n",
       "      <td>12</td>\n",
       "      <td>-419</td>\n",
       "      <td>-585</td>\n",
       "      <td>158</td>\n",
       "      <td>-253</td>\n",
       "      <td>49</td>\n",
       "      <td>31</td>\n",
       "      <td>...</td>\n",
       "      <td>65</td>\n",
       "      <td>433</td>\n",
       "      <td>-164</td>\n",
       "      <td>83</td>\n",
       "      <td>58</td>\n",
       "      <td>40</td>\n",
       "      <td>260</td>\n",
       "      <td>-236</td>\n",
       "      <td>-3361</td>\n",
       "      <td>14866</td>\n",
       "    </tr>\n",
       "    <tr>\n",
       "      <td>4</td>\n",
       "      <td>-106</td>\n",
       "      <td>-125</td>\n",
       "      <td>-76</td>\n",
       "      <td>168</td>\n",
       "      <td>-230</td>\n",
       "      <td>-284</td>\n",
       "      <td>4</td>\n",
       "      <td>-122</td>\n",
       "      <td>70</td>\n",
       "      <td>252</td>\n",
       "      <td>...</td>\n",
       "      <td>43</td>\n",
       "      <td>592</td>\n",
       "      <td>-3</td>\n",
       "      <td>16</td>\n",
       "      <td>323</td>\n",
       "      <td>322</td>\n",
       "      <td>4031</td>\n",
       "      <td>-96</td>\n",
       "      <td>-1706</td>\n",
       "      <td>17193</td>\n",
       "    </tr>\n",
       "    <tr>\n",
       "      <td>...</td>\n",
       "      <td>...</td>\n",
       "      <td>...</td>\n",
       "      <td>...</td>\n",
       "      <td>...</td>\n",
       "      <td>...</td>\n",
       "      <td>...</td>\n",
       "      <td>...</td>\n",
       "      <td>...</td>\n",
       "      <td>...</td>\n",
       "      <td>...</td>\n",
       "      <td>...</td>\n",
       "      <td>...</td>\n",
       "      <td>...</td>\n",
       "      <td>...</td>\n",
       "      <td>...</td>\n",
       "      <td>...</td>\n",
       "      <td>...</td>\n",
       "      <td>...</td>\n",
       "      <td>...</td>\n",
       "      <td>...</td>\n",
       "      <td>...</td>\n",
       "    </tr>\n",
       "    <tr>\n",
       "      <td>67</td>\n",
       "      <td>-62</td>\n",
       "      <td>-198</td>\n",
       "      <td>-5</td>\n",
       "      <td>141</td>\n",
       "      <td>-256</td>\n",
       "      <td>-206</td>\n",
       "      <td>-298</td>\n",
       "      <td>-218</td>\n",
       "      <td>-14</td>\n",
       "      <td>100</td>\n",
       "      <td>...</td>\n",
       "      <td>153</td>\n",
       "      <td>538</td>\n",
       "      <td>51</td>\n",
       "      <td>-100</td>\n",
       "      <td>-44</td>\n",
       "      <td>198</td>\n",
       "      <td>145</td>\n",
       "      <td>120</td>\n",
       "      <td>-1126</td>\n",
       "      <td>13200</td>\n",
       "    </tr>\n",
       "    <tr>\n",
       "      <td>68</td>\n",
       "      <td>-58</td>\n",
       "      <td>-217</td>\n",
       "      <td>63</td>\n",
       "      <td>95</td>\n",
       "      <td>-191</td>\n",
       "      <td>-230</td>\n",
       "      <td>-86</td>\n",
       "      <td>-152</td>\n",
       "      <td>-6</td>\n",
       "      <td>-249</td>\n",
       "      <td>...</td>\n",
       "      <td>34</td>\n",
       "      <td>530</td>\n",
       "      <td>156</td>\n",
       "      <td>-76</td>\n",
       "      <td>154</td>\n",
       "      <td>-52</td>\n",
       "      <td>191</td>\n",
       "      <td>-80</td>\n",
       "      <td>-1599</td>\n",
       "      <td>11575</td>\n",
       "    </tr>\n",
       "    <tr>\n",
       "      <td>69</td>\n",
       "      <td>-161</td>\n",
       "      <td>-215</td>\n",
       "      <td>-46</td>\n",
       "      <td>146</td>\n",
       "      <td>-172</td>\n",
       "      <td>-596</td>\n",
       "      <td>-122</td>\n",
       "      <td>-341</td>\n",
       "      <td>171</td>\n",
       "      <td>-147</td>\n",
       "      <td>...</td>\n",
       "      <td>145</td>\n",
       "      <td>223</td>\n",
       "      <td>-12</td>\n",
       "      <td>-231</td>\n",
       "      <td>19</td>\n",
       "      <td>197</td>\n",
       "      <td>127</td>\n",
       "      <td>-244</td>\n",
       "      <td>-1223</td>\n",
       "      <td>14501</td>\n",
       "    </tr>\n",
       "    <tr>\n",
       "      <td>70</td>\n",
       "      <td>-48</td>\n",
       "      <td>-531</td>\n",
       "      <td>-124</td>\n",
       "      <td>431</td>\n",
       "      <td>-496</td>\n",
       "      <td>-696</td>\n",
       "      <td>-1038</td>\n",
       "      <td>-441</td>\n",
       "      <td>235</td>\n",
       "      <td>157</td>\n",
       "      <td>...</td>\n",
       "      <td>303</td>\n",
       "      <td>200</td>\n",
       "      <td>-168</td>\n",
       "      <td>-338</td>\n",
       "      <td>-254</td>\n",
       "      <td>27</td>\n",
       "      <td>10</td>\n",
       "      <td>279</td>\n",
       "      <td>-1835</td>\n",
       "      <td>18386</td>\n",
       "    </tr>\n",
       "    <tr>\n",
       "      <td>71</td>\n",
       "      <td>-176</td>\n",
       "      <td>-284</td>\n",
       "      <td>-81</td>\n",
       "      <td>9</td>\n",
       "      <td>-294</td>\n",
       "      <td>-493</td>\n",
       "      <td>-393</td>\n",
       "      <td>-141</td>\n",
       "      <td>166</td>\n",
       "      <td>-37</td>\n",
       "      <td>...</td>\n",
       "      <td>67</td>\n",
       "      <td>152</td>\n",
       "      <td>94</td>\n",
       "      <td>-127</td>\n",
       "      <td>-106</td>\n",
       "      <td>560</td>\n",
       "      <td>169</td>\n",
       "      <td>-20</td>\n",
       "      <td>778</td>\n",
       "      <td>10923</td>\n",
       "    </tr>\n",
       "  </tbody>\n",
       "</table>\n",
       "<p>72 rows × 1024 columns</p>\n",
       "</div>"
      ],
      "text/plain": [
       "    0     1     2     3     4     5     6     7     8     9     ...  1014  \\\n",
       "0   -214  -153   -58    88  -295  -558   199  -176   252   206  ...   240   \n",
       "1   -139   -73    -1   283  -264  -400  -330  -168   101    74  ...   299   \n",
       "2    -76   -49  -307   309  -376  -650    33  -367   206  -215  ...   293   \n",
       "3   -135  -114   265    12  -419  -585   158  -253    49    31  ...    65   \n",
       "4   -106  -125   -76   168  -230  -284     4  -122    70   252  ...    43   \n",
       "..   ...   ...   ...   ...   ...   ...   ...   ...   ...   ...  ...   ...   \n",
       "67   -62  -198    -5   141  -256  -206  -298  -218   -14   100  ...   153   \n",
       "68   -58  -217    63    95  -191  -230   -86  -152    -6  -249  ...    34   \n",
       "69  -161  -215   -46   146  -172  -596  -122  -341   171  -147  ...   145   \n",
       "70   -48  -531  -124   431  -496  -696 -1038  -441   235   157  ...   303   \n",
       "71  -176  -284   -81     9  -294  -493  -393  -141   166   -37  ...    67   \n",
       "\n",
       "    1015  1016  1017  1018  1019  1020  1021  1022   1023  \n",
       "0    204   296    11  -104   260    76  -239 -2820  11216  \n",
       "1    842   199   -21    -4  -128   373  -241 -3276  15296  \n",
       "2    766  -173   106    53   731   436  -394 -3675  12911  \n",
       "3    433  -164    83    58    40   260  -236 -3361  14866  \n",
       "4    592    -3    16   323   322  4031   -96 -1706  17193  \n",
       "..   ...   ...   ...   ...   ...   ...   ...   ...    ...  \n",
       "67   538    51  -100   -44   198   145   120 -1126  13200  \n",
       "68   530   156   -76   154   -52   191   -80 -1599  11575  \n",
       "69   223   -12  -231    19   197   127  -244 -1223  14501  \n",
       "70   200  -168  -338  -254    27    10   279 -1835  18386  \n",
       "71   152    94  -127  -106   560   169   -20   778  10923  \n",
       "\n",
       "[72 rows x 1024 columns]"
      ]
     },
     "execution_count": 6,
     "metadata": {},
     "output_type": "execute_result"
    }
   ],
   "source": [
    "dataset"
   ]
  },
  {
   "cell_type": "code",
   "execution_count": 7,
   "metadata": {},
   "outputs": [
    {
     "data": {
      "text/plain": [
       "array([[ -139,   -73,    -1, ...,  -241, -3276, 15296],\n",
       "       [  -76,   -49,  -307, ...,  -394, -3675, 12911],\n",
       "       [ -135,  -114,   265, ...,  -236, -3361, 14866],\n",
       "       ...,\n",
       "       [ -161,  -215,   -46, ...,  -244, -1223, 14501],\n",
       "       [  -48,  -531,  -124, ...,   279, -1835, 18386],\n",
       "       [ -176,  -284,   -81, ...,   -20,   778, 10923]])"
      ]
     },
     "execution_count": 7,
     "metadata": {},
     "output_type": "execute_result"
    }
   ],
   "source": [
    "X = dataset.iloc[1:,:].values\n",
    "X"
   ]
  },
  {
   "cell_type": "code",
   "execution_count": 24,
   "metadata": {},
   "outputs": [],
   "source": [
    "km = KMeans(n_clusters=2)\n",
    "km.fit(X)\n",
    "km.predict(X)\n",
    "labels = km.labels_"
   ]
  },
  {
   "cell_type": "code",
   "execution_count": 25,
   "metadata": {},
   "outputs": [
    {
     "data": {
      "text/plain": [
       "array([1, 1, 1, 1, 0, 0, 0, 1, 1, 1, 1, 1, 1, 1, 1, 1, 1, 1, 1, 1, 1, 0,\n",
       "       1, 1, 1, 1, 1, 0, 1, 1, 1, 1, 1, 1, 1, 1, 1, 0, 1, 1, 0, 1, 1, 1,\n",
       "       0, 0, 1, 0, 0, 1, 1, 1, 1, 0, 0, 0, 0, 1, 1, 0, 1, 0, 0, 0, 0, 0,\n",
       "       1, 0, 1, 0, 0], dtype=int32)"
      ]
     },
     "execution_count": 25,
     "metadata": {},
     "output_type": "execute_result"
    }
   ],
   "source": [
    "labels"
   ]
  },
  {
   "cell_type": "code",
   "execution_count": 27,
   "metadata": {},
   "outputs": [
    {
     "data": {
      "image/png": "[encoded data removed]",
      "text/plain": [
       "<Figure size 432x288 with 1 Axes>"
      ]
     },
     "metadata": {
      "needs_background": "light"
     },
     "output_type": "display_data"
    },
    {
     "data": {
      "text/plain": [
       "<Figure size 216x432 with 0 Axes>"
      ]
     },
     "metadata": {},
     "output_type": "display_data"
    }
   ],
   "source": [
    "pca = PCA() # create a PCA object\n",
    "pca.fit(X) # do the math\n",
    "pca_data = pca.transform(X) # get PCA coordinates for scaled_data\n",
    "\n",
    "per_var = np.round(pca.explained_variance_ratio_* 100, decimals=1)\n",
    "labels = ['PC' + str(x) for x in range(1, len(per_var)+1)]\n",
    " \n",
    "plt.bar(x=range(1,len(per_var)+1), height=per_var, tick_label=labels)\n",
    "plt.ylabel('Percentage of Explained Variance')\n",
    "plt.xlabel('Principal Component')\n",
    "plt.title('Scree Plot')\n",
    "plt.show()"
   ]
  },
  {
   "cell_type": "markdown",
   "metadata": {},
   "source": [
    "As shown in the plot, most of the variance of data are shown by the first two components, therefore the number of componenets to be used for the PCA transformation was selected as 2"
   ]
  },
  {
   "cell_type": "code",
   "execution_count": 30,
   "metadata": {},
   "outputs": [
    {
     "data": {
      "text/plain": [
       "Text(0, 0.5, 'PC2 : 15.0%')"
      ]
     },
     "execution_count": 30,
     "metadata": {},
     "output_type": "execute_result"
    },
    {
     "data": {
      "image/png": "[encoded data removed]",
      "text/plain": [
       "<Figure size 432x288 with 1 Axes>"
      ]
     },
     "metadata": {
      "needs_background": "light"
     },
     "output_type": "display_data"
    }
   ],
   "source": [
    "pca_df = pd.DataFrame(pca_data, columns=labels)\n",
    "\n",
    "plt.scatter(pca_df.PC1, pca_df.PC2)\n",
    "plt.title('My PCA Graph')\n",
    "plt.xlabel('PC1 : {0}%'.format(per_var[0]))\n",
    "plt.ylabel('PC2 : {0}%'.format(per_var[1]))"
   ]
  },
  {
   "cell_type": "markdown",
   "metadata": {},
   "source": [
    "Given above is a plot showing the PC1 and PC2 values for the relevant data"
   ]
  },
  {
   "cell_type": "code",
   "execution_count": 32,
   "metadata": {},
   "outputs": [],
   "source": [
    "class clustering:\n",
    "    def __init__(self):\n",
    "        self.plot(X)\n",
    "\n",
    "    def plot(self, X):\n",
    "        pca = PCA(n_components=2, whiten=True).fit(X)\n",
    "        X_pca = pca.transform(X)\n",
    "        kmeans = KMeans(n_clusters=2, random_state=RandomState(42)).fit(X_pca)\n",
    "        plot_2D(X_pca, kmeans.labels_, [\"c0\", \"c1\"])"
   ]
  },
  {
   "cell_type": "markdown",
   "metadata": {},
   "source": [
    "According to the analysis provided by Orange3 : \n",
    "once k-means clustering is used, the highest silhoutte scoring was recorded for two clusters, therefore the number of clusters used for k-means was taken as 2"
   ]
  },
  {
   "cell_type": "code",
   "execution_count": 33,
   "metadata": {},
   "outputs": [
    {
     "data": {
      "image/png": "[encoded data removed]",
      "text/plain": [
       "<Figure size 432x288 with 1 Axes>"
      ]
     },
     "metadata": {
      "needs_background": "light"
     },
     "output_type": "display_data"
    }
   ],
   "source": [
    "def plot_2D(data, target, target_names):\n",
    "    colors = cycle('rgbcmykw')\n",
    "    target_ids = range(len(target_names))\n",
    "    pl.figure()\n",
    "    for i, c, label in zip(target_ids, colors, target_names):\n",
    "        pl.scatter(data[target == i, 0], data[target == i, 1],c=c, label=label)\n",
    "    pl.legend()\n",
    "    pl.show()\n",
    "\n",
    "if __name__ == '__main__':\n",
    "    c = clustering()"
   ]
  },
  {
   "cell_type": "markdown",
   "metadata": {},
   "source": [
    "According to the analysis given by the plot, it can be seen that there are two clusters to which the patients can be grouped into. "
   ]
  }
 ],
 "metadata": {
  "kernelspec": {
   "display_name": "Python 3",
   "language": "python",
   "name": "python3"
  },
  "language_info": {
   "codemirror_mode": {
    "name": "ipython",
    "version": 3
   },
   "file_extension": ".py",
   "mimetype": "text/x-python",
   "name": "python",
   "nbconvert_exporter": "python",
   "pygments_lexer": "ipython3",
   "version": "3.7.4"
  }
 },
 "nbformat": 4,
 "nbformat_minor": 4
}
