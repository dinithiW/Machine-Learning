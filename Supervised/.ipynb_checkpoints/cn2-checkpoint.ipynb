{
 "cells": [
  {
   "cell_type": "markdown",
   "metadata": {},
   "source": [
    "CN2 Rule Inducer "
   ]
  },
  {
   "cell_type": "code",
   "execution_count": 2,
   "metadata": {},
   "outputs": [],
   "source": [
    "import Orange\n",
    "import pandas as pd\n",
    "from sklearn.ensemble import AdaBoostClassifier\n",
    "from sklearn.model_selection import train_test_split\n",
    "from sklearn import metrics\n",
    "from sklearn.feature_selection import RFE "
   ]
  },
  {
   "cell_type": "code",
   "execution_count": 6,
   "metadata": {},
   "outputs": [],
   "source": [
    "data = Orange.data.Table('titanic')\n",
    "learner = Orange.classification.CN2Learner()\n",
    "classifier = learner(data)"
   ]
  },
  {
   "cell_type": "code",
   "execution_count": 7,
   "metadata": {},
   "outputs": [
    {
     "data": {
      "text/plain": [
       "[[first, adult, male | yes],\n",
       " [first, adult, male | yes],\n",
       " [first, adult, male | yes],\n",
       " [first, adult, male | yes],\n",
       " [first, adult, male | yes],\n",
       " ...\n",
       "]"
      ]
     },
     "execution_count": 7,
     "metadata": {},
     "output_type": "execute_result"
    }
   ],
   "source": [
    "data"
   ]
  },
  {
   "cell_type": "code",
   "execution_count": 8,
   "metadata": {},
   "outputs": [
    {
     "name": "stdout",
     "output_type": "stream",
     "text": [
      "IF sex==female AND status==first AND age!=adult THEN survived=yes  [0, 1]\n",
      "IF sex==female AND status!=third AND age!=adult THEN survived=yes  [0, 13]\n",
      "IF sex!=female AND status==second AND age!=adult THEN survived=yes  [0, 11]\n",
      "IF sex==female AND status==first THEN survived=yes  [4, 140]\n",
      "IF status!=third AND age!=adult THEN survived=yes  [0, 5]\n",
      "IF sex!=female AND status==second THEN survived=no  [154, 14]\n",
      "IF status==crew AND sex!=male THEN survived=yes  [3, 20]\n",
      "IF status==second THEN survived=yes  [13, 80]\n",
      "IF sex!=female AND status==third AND age!=child THEN survived=no  [387, 75]\n",
      "IF status==crew THEN survived=no  [670, 192]\n",
      "IF sex!=female AND status!=first THEN survived=no  [35, 13]\n",
      "IF status==first THEN survived=no  [118, 57]\n",
      "IF age!=adult THEN survived=no  [17, 14]\n",
      "IF status==third THEN survived=no  [89, 76]\n",
      "IF TRUE THEN survived=no  [1490, 711]\n"
     ]
    }
   ],
   "source": [
    "for rule in classifier.rule_list:\n",
    "    print(rule, rule.curr_class_dist.tolist())"
   ]
  },
  {
   "cell_type": "markdown",
   "metadata": {},
   "source": [
    "COMMENTS:\n",
    "\n",
    "By careful observation of the association rules created in Orange3 and using Scikit Learn, it can be observed that the same set of association rules were made in both cases. Therefore the performance of both are same.\n",
    "CN2 rule induction does not provide any metric for feature importance and therefore cannot be used with RFE."
   ]
  }
 ],
 "metadata": {
  "kernelspec": {
   "display_name": "Python 3",
   "language": "python",
   "name": "python3"
  },
  "language_info": {
   "codemirror_mode": {
    "name": "ipython",
    "version": 3
   },
   "file_extension": ".py",
   "mimetype": "text/x-python",
   "name": "python",
   "nbconvert_exporter": "python",
   "pygments_lexer": "ipython3",
   "version": "3.7.4"
  }
 },
 "nbformat": 4,
 "nbformat_minor": 4
}
